{
 "cells": [
  {
   "cell_type": "code",
   "execution_count": 1,
   "metadata": {
    "collapsed": true
   },
   "outputs": [],
   "source": [
    "from ffbe.tools.Search import find_equipment\n",
    "from ffbe.tools.load_pickle import load_pickle"
   ]
  },
  {
   "cell_type": "code",
   "execution_count": 2,
   "metadata": {
    "collapsed": true
   },
   "outputs": [],
   "source": [
    "import plotly.plotly as py\n",
    "import plotly.graph_objs as go"
   ]
  },
  {
   "cell_type": "code",
   "execution_count": 3,
   "metadata": {
    "collapsed": true
   },
   "outputs": [],
   "source": [
    "\n",
    "equipment = load_pickle(EQUIPMENT_FILE)"
   ]
  },
  {
   "cell_type": "code",
   "execution_count": 7,
   "metadata": {
    "collapsed": false
   },
   "outputs": [],
   "source": [
    "deff = []\n",
    "spr = []\n",
    "result = find_equipment(equipment, etypes='Accessory')\n",
    "for r in result :\n",
    "    deff.append(r.get_stat('DEF'))\n",
    "    spr.append(r.get_stat('SPR'))"
   ]
  },
  {
   "cell_type": "code",
   "execution_count": 15,
   "metadata": {
    "collapsed": false
   },
   "outputs": [
    {
     "name": "stdout",
     "output_type": "stream",
     "text": [
      "High five! You successfully sent some data to your account on plotly. View your plot in your browser at https://plot.ly/~lqdreality/0 or inside your plot.ly account where it is named 'accessory_def_spr'\n"
     ]
    },
    {
     "data": {
      "text/html": [
       "<iframe id=\"igraph\" scrolling=\"no\" style=\"border:none;\" seamless=\"seamless\" src=\"https://plot.ly/~lqdreality/0.embed\" height=\"525px\" width=\"100%\"></iframe>"
      ],
      "text/plain": [
       "<plotly.tools.PlotlyDisplay object>"
      ]
     },
     "execution_count": 15,
     "metadata": {},
     "output_type": "execute_result"
    }
   ],
   "source": [
    "l = []\n",
    "for i in range(0, len(spr)) :\n",
    "    t = go.Scatter(x=deff[i],\n",
    "                   y=spr[i],\n",
    "                   mode='markers',\n",
    "                   marker=dict(size=14,color='rgb(1,1,1)'),\n",
    "                  text=result[i].name)\n",
    "    l.append(t)\n",
    "layout = go.Layout(title='Accessory DEF/SPR',\n",
    "                   hovermode='closest',\n",
    "                  xaxis=dict(title='DEF'),\n",
    "                  yaxis=dict(title='SPR'),\n",
    "                  showlegend=False)\n",
    "fig= go.Figure(data=l, layout=layout)\n",
    "py.iplot(fig, filename='accessory_def_spr')"
   ]
  }
 ],
 "metadata": {
  "kernelspec": {
   "display_name": "Python [Root]",
   "language": "python",
   "name": "Python [Root]"
  },
  "language_info": {
   "codemirror_mode": {
    "name": "ipython",
    "version": 3
   },
   "file_extension": ".py",
   "mimetype": "text/x-python",
   "name": "python",
   "nbconvert_exporter": "python",
   "pygments_lexer": "ipython3",
   "version": "3.5.2"
  }
 },
 "nbformat": 4,
 "nbformat_minor": 2
}
